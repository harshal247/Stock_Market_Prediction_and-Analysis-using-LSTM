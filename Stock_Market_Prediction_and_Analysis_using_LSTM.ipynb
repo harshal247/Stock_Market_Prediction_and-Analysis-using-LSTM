{
  "cells": [
    {
      "cell_type": "code",
      "execution_count": null,
      "id": "095c5fd9",
      "metadata": {
        "id": "095c5fd9"
      },
      "outputs": [],
      "source": [
        "import pandas as pd\n",
        "import numpy as np\n",
        "import matplotlib.pyplot as plt\n",
        "from sklearn.preprocessing import MinMaxScaler\n",
        "from sklearn.model_selection import train_test_split\n",
        "from sklearn.metrics import mean_squared_error\n",
        "from tensorflow.keras.models import Sequential\n",
        "from tensorflow.keras.layers import Dense, LSTM \n",
        "import warnings\n",
        "warnings.filterwarnings('ignore')"
      ]
    },
    {
      "cell_type": "code",
      "source": [
        "from google.colab import drive\n",
        "drive.mount('/content/gdrive')"
      ],
      "metadata": {
        "colab": {
          "base_uri": "https://localhost:8080/"
        },
        "id": "brJL9IAFuu5L",
        "outputId": "a37d6a21-8734-4c79-a5a1-44c1f5e97c33"
      },
      "id": "brJL9IAFuu5L",
      "execution_count": null,
      "outputs": [
        {
          "output_type": "stream",
          "name": "stdout",
          "text": [
            "Mounted at /content/gdrive\n"
          ]
        }
      ]
    },
    {
      "cell_type": "code",
      "execution_count": null,
      "id": "bfa79450",
      "metadata": {
        "id": "bfa79450"
      },
      "outputs": [],
      "source": [
        "import pandas_datareader as pdr"
      ]
    },
    {
      "cell_type": "code",
      "execution_count": null,
      "id": "2b260d4d",
      "metadata": {
        "id": "2b260d4d"
      },
      "outputs": [],
      "source": [
        "stock_price_df = pdr.get_data_tiingo('AAPL', api_key='424892e0e5bb46bab307b21f5ed059616924fff3')"
      ]
    },
    {
      "cell_type": "code",
      "execution_count": null,
      "id": "93f47ce8",
      "metadata": {
        "id": "93f47ce8"
      },
      "outputs": [],
      "source": [
        "stock_price_df.to_csv('AAPL.csv')"
      ]
    },
    {
      "cell_type": "code",
      "execution_count": null,
      "id": "058147c1",
      "metadata": {
        "colab": {
          "base_uri": "https://localhost:8080/",
          "height": 204
        },
        "id": "058147c1",
        "outputId": "74a4e17a-6d56-472c-9e1c-f2c883c2b842"
      },
      "outputs": [
        {
          "output_type": "execute_result",
          "data": {
            "text/plain": [
              "  symbol                       date   close    high     low    open    volume  \\\n",
              "0   AAPL  2018-04-02 00:00:00+00:00  166.68  168.94  164.47  166.64  37586791   \n",
              "1   AAPL  2018-04-03 00:00:00+00:00  168.39  168.75  164.88  167.64  30278046   \n",
              "2   AAPL  2018-04-04 00:00:00+00:00  171.61  172.01  164.77  164.88  34605489   \n",
              "3   AAPL  2018-04-05 00:00:00+00:00  172.80  174.23  172.08  172.58  26933197   \n",
              "4   AAPL  2018-04-06 00:00:00+00:00  168.38  172.48  168.20  170.97  35005290   \n",
              "\n",
              "    adjClose    adjHigh     adjLow    adjOpen  adjVolume  divCash  splitFactor  \n",
              "0  39.671106  40.209003  39.145109  39.661585  150347164      0.0          1.0  \n",
              "1  40.078099  40.163781  39.242692  39.899593  121112184      0.0          1.0  \n",
              "2  40.844483  40.939686  39.216511  39.242692  138421956      0.0          1.0  \n",
              "3  41.127712  41.468063  40.956347  41.075350  107732788      0.0          1.0  \n",
              "4  40.075718  41.051550  40.032877  40.692158  140021160      0.0          1.0  "
            ],
            "text/html": [
              "\n",
              "  <div id=\"df-3f067fbb-839c-4142-b38c-711b533e63a1\">\n",
              "    <div class=\"colab-df-container\">\n",
              "      <div>\n",
              "<style scoped>\n",
              "    .dataframe tbody tr th:only-of-type {\n",
              "        vertical-align: middle;\n",
              "    }\n",
              "\n",
              "    .dataframe tbody tr th {\n",
              "        vertical-align: top;\n",
              "    }\n",
              "\n",
              "    .dataframe thead th {\n",
              "        text-align: right;\n",
              "    }\n",
              "</style>\n",
              "<table border=\"1\" class=\"dataframe\">\n",
              "  <thead>\n",
              "    <tr style=\"text-align: right;\">\n",
              "      <th></th>\n",
              "      <th>symbol</th>\n",
              "      <th>date</th>\n",
              "      <th>close</th>\n",
              "      <th>high</th>\n",
              "      <th>low</th>\n",
              "      <th>open</th>\n",
              "      <th>volume</th>\n",
              "      <th>adjClose</th>\n",
              "      <th>adjHigh</th>\n",
              "      <th>adjLow</th>\n",
              "      <th>adjOpen</th>\n",
              "      <th>adjVolume</th>\n",
              "      <th>divCash</th>\n",
              "      <th>splitFactor</th>\n",
              "    </tr>\n",
              "  </thead>\n",
              "  <tbody>\n",
              "    <tr>\n",
              "      <th>0</th>\n",
              "      <td>AAPL</td>\n",
              "      <td>2018-04-02 00:00:00+00:00</td>\n",
              "      <td>166.68</td>\n",
              "      <td>168.94</td>\n",
              "      <td>164.47</td>\n",
              "      <td>166.64</td>\n",
              "      <td>37586791</td>\n",
              "      <td>39.671106</td>\n",
              "      <td>40.209003</td>\n",
              "      <td>39.145109</td>\n",
              "      <td>39.661585</td>\n",
              "      <td>150347164</td>\n",
              "      <td>0.0</td>\n",
              "      <td>1.0</td>\n",
              "    </tr>\n",
              "    <tr>\n",
              "      <th>1</th>\n",
              "      <td>AAPL</td>\n",
              "      <td>2018-04-03 00:00:00+00:00</td>\n",
              "      <td>168.39</td>\n",
              "      <td>168.75</td>\n",
              "      <td>164.88</td>\n",
              "      <td>167.64</td>\n",
              "      <td>30278046</td>\n",
              "      <td>40.078099</td>\n",
              "      <td>40.163781</td>\n",
              "      <td>39.242692</td>\n",
              "      <td>39.899593</td>\n",
              "      <td>121112184</td>\n",
              "      <td>0.0</td>\n",
              "      <td>1.0</td>\n",
              "    </tr>\n",
              "    <tr>\n",
              "      <th>2</th>\n",
              "      <td>AAPL</td>\n",
              "      <td>2018-04-04 00:00:00+00:00</td>\n",
              "      <td>171.61</td>\n",
              "      <td>172.01</td>\n",
              "      <td>164.77</td>\n",
              "      <td>164.88</td>\n",
              "      <td>34605489</td>\n",
              "      <td>40.844483</td>\n",
              "      <td>40.939686</td>\n",
              "      <td>39.216511</td>\n",
              "      <td>39.242692</td>\n",
              "      <td>138421956</td>\n",
              "      <td>0.0</td>\n",
              "      <td>1.0</td>\n",
              "    </tr>\n",
              "    <tr>\n",
              "      <th>3</th>\n",
              "      <td>AAPL</td>\n",
              "      <td>2018-04-05 00:00:00+00:00</td>\n",
              "      <td>172.80</td>\n",
              "      <td>174.23</td>\n",
              "      <td>172.08</td>\n",
              "      <td>172.58</td>\n",
              "      <td>26933197</td>\n",
              "      <td>41.127712</td>\n",
              "      <td>41.468063</td>\n",
              "      <td>40.956347</td>\n",
              "      <td>41.075350</td>\n",
              "      <td>107732788</td>\n",
              "      <td>0.0</td>\n",
              "      <td>1.0</td>\n",
              "    </tr>\n",
              "    <tr>\n",
              "      <th>4</th>\n",
              "      <td>AAPL</td>\n",
              "      <td>2018-04-06 00:00:00+00:00</td>\n",
              "      <td>168.38</td>\n",
              "      <td>172.48</td>\n",
              "      <td>168.20</td>\n",
              "      <td>170.97</td>\n",
              "      <td>35005290</td>\n",
              "      <td>40.075718</td>\n",
              "      <td>41.051550</td>\n",
              "      <td>40.032877</td>\n",
              "      <td>40.692158</td>\n",
              "      <td>140021160</td>\n",
              "      <td>0.0</td>\n",
              "      <td>1.0</td>\n",
              "    </tr>\n",
              "  </tbody>\n",
              "</table>\n",
              "</div>\n",
              "      <button class=\"colab-df-convert\" onclick=\"convertToInteractive('df-3f067fbb-839c-4142-b38c-711b533e63a1')\"\n",
              "              title=\"Convert this dataframe to an interactive table.\"\n",
              "              style=\"display:none;\">\n",
              "        \n",
              "  <svg xmlns=\"http://www.w3.org/2000/svg\" height=\"24px\"viewBox=\"0 0 24 24\"\n",
              "       width=\"24px\">\n",
              "    <path d=\"M0 0h24v24H0V0z\" fill=\"none\"/>\n",
              "    <path d=\"M18.56 5.44l.94 2.06.94-2.06 2.06-.94-2.06-.94-.94-2.06-.94 2.06-2.06.94zm-11 1L8.5 8.5l.94-2.06 2.06-.94-2.06-.94L8.5 2.5l-.94 2.06-2.06.94zm10 10l.94 2.06.94-2.06 2.06-.94-2.06-.94-.94-2.06-.94 2.06-2.06.94z\"/><path d=\"M17.41 7.96l-1.37-1.37c-.4-.4-.92-.59-1.43-.59-.52 0-1.04.2-1.43.59L10.3 9.45l-7.72 7.72c-.78.78-.78 2.05 0 2.83L4 21.41c.39.39.9.59 1.41.59.51 0 1.02-.2 1.41-.59l7.78-7.78 2.81-2.81c.8-.78.8-2.07 0-2.86zM5.41 20L4 18.59l7.72-7.72 1.47 1.35L5.41 20z\"/>\n",
              "  </svg>\n",
              "      </button>\n",
              "      \n",
              "  <style>\n",
              "    .colab-df-container {\n",
              "      display:flex;\n",
              "      flex-wrap:wrap;\n",
              "      gap: 12px;\n",
              "    }\n",
              "\n",
              "    .colab-df-convert {\n",
              "      background-color: #E8F0FE;\n",
              "      border: none;\n",
              "      border-radius: 50%;\n",
              "      cursor: pointer;\n",
              "      display: none;\n",
              "      fill: #1967D2;\n",
              "      height: 32px;\n",
              "      padding: 0 0 0 0;\n",
              "      width: 32px;\n",
              "    }\n",
              "\n",
              "    .colab-df-convert:hover {\n",
              "      background-color: #E2EBFA;\n",
              "      box-shadow: 0px 1px 2px rgba(60, 64, 67, 0.3), 0px 1px 3px 1px rgba(60, 64, 67, 0.15);\n",
              "      fill: #174EA6;\n",
              "    }\n",
              "\n",
              "    [theme=dark] .colab-df-convert {\n",
              "      background-color: #3B4455;\n",
              "      fill: #D2E3FC;\n",
              "    }\n",
              "\n",
              "    [theme=dark] .colab-df-convert:hover {\n",
              "      background-color: #434B5C;\n",
              "      box-shadow: 0px 1px 3px 1px rgba(0, 0, 0, 0.15);\n",
              "      filter: drop-shadow(0px 1px 2px rgba(0, 0, 0, 0.3));\n",
              "      fill: #FFFFFF;\n",
              "    }\n",
              "  </style>\n",
              "\n",
              "      <script>\n",
              "        const buttonEl =\n",
              "          document.querySelector('#df-3f067fbb-839c-4142-b38c-711b533e63a1 button.colab-df-convert');\n",
              "        buttonEl.style.display =\n",
              "          google.colab.kernel.accessAllowed ? 'block' : 'none';\n",
              "\n",
              "        async function convertToInteractive(key) {\n",
              "          const element = document.querySelector('#df-3f067fbb-839c-4142-b38c-711b533e63a1');\n",
              "          const dataTable =\n",
              "            await google.colab.kernel.invokeFunction('convertToInteractive',\n",
              "                                                     [key], {});\n",
              "          if (!dataTable) return;\n",
              "\n",
              "          const docLinkHtml = 'Like what you see? Visit the ' +\n",
              "            '<a target=\"_blank\" href=https://colab.research.google.com/notebooks/data_table.ipynb>data table notebook</a>'\n",
              "            + ' to learn more about interactive tables.';\n",
              "          element.innerHTML = '';\n",
              "          dataTable['output_type'] = 'display_data';\n",
              "          await google.colab.output.renderOutput(dataTable, element);\n",
              "          const docLink = document.createElement('div');\n",
              "          docLink.innerHTML = docLinkHtml;\n",
              "          element.appendChild(docLink);\n",
              "        }\n",
              "      </script>\n",
              "    </div>\n",
              "  </div>\n",
              "  "
            ]
          },
          "metadata": {},
          "execution_count": 13
        }
      ],
      "source": [
        "stock_price = pd.read_csv('/content/gdrive/MyDrive/AAPL.csv')\n",
        "stock_price.head(5)"
      ]
    },
    {
      "cell_type": "code",
      "execution_count": null,
      "id": "f441fe3a",
      "metadata": {
        "colab": {
          "base_uri": "https://localhost:8080/",
          "height": 204
        },
        "id": "f441fe3a",
        "outputId": "31717a0c-22b2-4d9f-df7a-4658c0a1433b"
      },
      "outputs": [
        {
          "output_type": "execute_result",
          "data": {
            "text/plain": [
              "     symbol                       date   close    high      low    open  \\\n",
              "1255   AAPL  2023-03-27 00:00:00+00:00  158.28  160.77  157.870  159.94   \n",
              "1256   AAPL  2023-03-28 00:00:00+00:00  157.65  158.49  155.980  157.97   \n",
              "1257   AAPL  2023-03-29 00:00:00+00:00  160.77  161.05  159.350  159.37   \n",
              "1258   AAPL  2023-03-30 00:00:00+00:00  162.36  162.47  161.271  161.53   \n",
              "1259   AAPL  2023-03-31 00:00:00+00:00  164.90  165.00  161.910  162.44   \n",
              "\n",
              "        volume  adjClose  adjHigh   adjLow  adjOpen  adjVolume  divCash  \\\n",
              "1255  52390266    158.28   160.77  157.870   159.94   52390266      0.0   \n",
              "1256  45992152    157.65   158.49  155.980   157.97   45992152      0.0   \n",
              "1257  51305691    160.77   161.05  159.350   159.37   51305691      0.0   \n",
              "1258  49501689    162.36   162.47  161.271   161.53   49501689      0.0   \n",
              "1259  68749792    164.90   165.00  161.910   162.44   68749792      0.0   \n",
              "\n",
              "      splitFactor  \n",
              "1255          1.0  \n",
              "1256          1.0  \n",
              "1257          1.0  \n",
              "1258          1.0  \n",
              "1259          1.0  "
            ],
            "text/html": [
              "\n",
              "  <div id=\"df-fe2d00d4-c9fb-4198-a1e6-56de3b2a15e4\">\n",
              "    <div class=\"colab-df-container\">\n",
              "      <div>\n",
              "<style scoped>\n",
              "    .dataframe tbody tr th:only-of-type {\n",
              "        vertical-align: middle;\n",
              "    }\n",
              "\n",
              "    .dataframe tbody tr th {\n",
              "        vertical-align: top;\n",
              "    }\n",
              "\n",
              "    .dataframe thead th {\n",
              "        text-align: right;\n",
              "    }\n",
              "</style>\n",
              "<table border=\"1\" class=\"dataframe\">\n",
              "  <thead>\n",
              "    <tr style=\"text-align: right;\">\n",
              "      <th></th>\n",
              "      <th>symbol</th>\n",
              "      <th>date</th>\n",
              "      <th>close</th>\n",
              "      <th>high</th>\n",
              "      <th>low</th>\n",
              "      <th>open</th>\n",
              "      <th>volume</th>\n",
              "      <th>adjClose</th>\n",
              "      <th>adjHigh</th>\n",
              "      <th>adjLow</th>\n",
              "      <th>adjOpen</th>\n",
              "      <th>adjVolume</th>\n",
              "      <th>divCash</th>\n",
              "      <th>splitFactor</th>\n",
              "    </tr>\n",
              "  </thead>\n",
              "  <tbody>\n",
              "    <tr>\n",
              "      <th>1255</th>\n",
              "      <td>AAPL</td>\n",
              "      <td>2023-03-27 00:00:00+00:00</td>\n",
              "      <td>158.28</td>\n",
              "      <td>160.77</td>\n",
              "      <td>157.870</td>\n",
              "      <td>159.94</td>\n",
              "      <td>52390266</td>\n",
              "      <td>158.28</td>\n",
              "      <td>160.77</td>\n",
              "      <td>157.870</td>\n",
              "      <td>159.94</td>\n",
              "      <td>52390266</td>\n",
              "      <td>0.0</td>\n",
              "      <td>1.0</td>\n",
              "    </tr>\n",
              "    <tr>\n",
              "      <th>1256</th>\n",
              "      <td>AAPL</td>\n",
              "      <td>2023-03-28 00:00:00+00:00</td>\n",
              "      <td>157.65</td>\n",
              "      <td>158.49</td>\n",
              "      <td>155.980</td>\n",
              "      <td>157.97</td>\n",
              "      <td>45992152</td>\n",
              "      <td>157.65</td>\n",
              "      <td>158.49</td>\n",
              "      <td>155.980</td>\n",
              "      <td>157.97</td>\n",
              "      <td>45992152</td>\n",
              "      <td>0.0</td>\n",
              "      <td>1.0</td>\n",
              "    </tr>\n",
              "    <tr>\n",
              "      <th>1257</th>\n",
              "      <td>AAPL</td>\n",
              "      <td>2023-03-29 00:00:00+00:00</td>\n",
              "      <td>160.77</td>\n",
              "      <td>161.05</td>\n",
              "      <td>159.350</td>\n",
              "      <td>159.37</td>\n",
              "      <td>51305691</td>\n",
              "      <td>160.77</td>\n",
              "      <td>161.05</td>\n",
              "      <td>159.350</td>\n",
              "      <td>159.37</td>\n",
              "      <td>51305691</td>\n",
              "      <td>0.0</td>\n",
              "      <td>1.0</td>\n",
              "    </tr>\n",
              "    <tr>\n",
              "      <th>1258</th>\n",
              "      <td>AAPL</td>\n",
              "      <td>2023-03-30 00:00:00+00:00</td>\n",
              "      <td>162.36</td>\n",
              "      <td>162.47</td>\n",
              "      <td>161.271</td>\n",
              "      <td>161.53</td>\n",
              "      <td>49501689</td>\n",
              "      <td>162.36</td>\n",
              "      <td>162.47</td>\n",
              "      <td>161.271</td>\n",
              "      <td>161.53</td>\n",
              "      <td>49501689</td>\n",
              "      <td>0.0</td>\n",
              "      <td>1.0</td>\n",
              "    </tr>\n",
              "    <tr>\n",
              "      <th>1259</th>\n",
              "      <td>AAPL</td>\n",
              "      <td>2023-03-31 00:00:00+00:00</td>\n",
              "      <td>164.90</td>\n",
              "      <td>165.00</td>\n",
              "      <td>161.910</td>\n",
              "      <td>162.44</td>\n",
              "      <td>68749792</td>\n",
              "      <td>164.90</td>\n",
              "      <td>165.00</td>\n",
              "      <td>161.910</td>\n",
              "      <td>162.44</td>\n",
              "      <td>68749792</td>\n",
              "      <td>0.0</td>\n",
              "      <td>1.0</td>\n",
              "    </tr>\n",
              "  </tbody>\n",
              "</table>\n",
              "</div>\n",
              "      <button class=\"colab-df-convert\" onclick=\"convertToInteractive('df-fe2d00d4-c9fb-4198-a1e6-56de3b2a15e4')\"\n",
              "              title=\"Convert this dataframe to an interactive table.\"\n",
              "              style=\"display:none;\">\n",
              "        \n",
              "  <svg xmlns=\"http://www.w3.org/2000/svg\" height=\"24px\"viewBox=\"0 0 24 24\"\n",
              "       width=\"24px\">\n",
              "    <path d=\"M0 0h24v24H0V0z\" fill=\"none\"/>\n",
              "    <path d=\"M18.56 5.44l.94 2.06.94-2.06 2.06-.94-2.06-.94-.94-2.06-.94 2.06-2.06.94zm-11 1L8.5 8.5l.94-2.06 2.06-.94-2.06-.94L8.5 2.5l-.94 2.06-2.06.94zm10 10l.94 2.06.94-2.06 2.06-.94-2.06-.94-.94-2.06-.94 2.06-2.06.94z\"/><path d=\"M17.41 7.96l-1.37-1.37c-.4-.4-.92-.59-1.43-.59-.52 0-1.04.2-1.43.59L10.3 9.45l-7.72 7.72c-.78.78-.78 2.05 0 2.83L4 21.41c.39.39.9.59 1.41.59.51 0 1.02-.2 1.41-.59l7.78-7.78 2.81-2.81c.8-.78.8-2.07 0-2.86zM5.41 20L4 18.59l7.72-7.72 1.47 1.35L5.41 20z\"/>\n",
              "  </svg>\n",
              "      </button>\n",
              "      \n",
              "  <style>\n",
              "    .colab-df-container {\n",
              "      display:flex;\n",
              "      flex-wrap:wrap;\n",
              "      gap: 12px;\n",
              "    }\n",
              "\n",
              "    .colab-df-convert {\n",
              "      background-color: #E8F0FE;\n",
              "      border: none;\n",
              "      border-radius: 50%;\n",
              "      cursor: pointer;\n",
              "      display: none;\n",
              "      fill: #1967D2;\n",
              "      height: 32px;\n",
              "      padding: 0 0 0 0;\n",
              "      width: 32px;\n",
              "    }\n",
              "\n",
              "    .colab-df-convert:hover {\n",
              "      background-color: #E2EBFA;\n",
              "      box-shadow: 0px 1px 2px rgba(60, 64, 67, 0.3), 0px 1px 3px 1px rgba(60, 64, 67, 0.15);\n",
              "      fill: #174EA6;\n",
              "    }\n",
              "\n",
              "    [theme=dark] .colab-df-convert {\n",
              "      background-color: #3B4455;\n",
              "      fill: #D2E3FC;\n",
              "    }\n",
              "\n",
              "    [theme=dark] .colab-df-convert:hover {\n",
              "      background-color: #434B5C;\n",
              "      box-shadow: 0px 1px 3px 1px rgba(0, 0, 0, 0.15);\n",
              "      filter: drop-shadow(0px 1px 2px rgba(0, 0, 0, 0.3));\n",
              "      fill: #FFFFFF;\n",
              "    }\n",
              "  </style>\n",
              "\n",
              "      <script>\n",
              "        const buttonEl =\n",
              "          document.querySelector('#df-fe2d00d4-c9fb-4198-a1e6-56de3b2a15e4 button.colab-df-convert');\n",
              "        buttonEl.style.display =\n",
              "          google.colab.kernel.accessAllowed ? 'block' : 'none';\n",
              "\n",
              "        async function convertToInteractive(key) {\n",
              "          const element = document.querySelector('#df-fe2d00d4-c9fb-4198-a1e6-56de3b2a15e4');\n",
              "          const dataTable =\n",
              "            await google.colab.kernel.invokeFunction('convertToInteractive',\n",
              "                                                     [key], {});\n",
              "          if (!dataTable) return;\n",
              "\n",
              "          const docLinkHtml = 'Like what you see? Visit the ' +\n",
              "            '<a target=\"_blank\" href=https://colab.research.google.com/notebooks/data_table.ipynb>data table notebook</a>'\n",
              "            + ' to learn more about interactive tables.';\n",
              "          element.innerHTML = '';\n",
              "          dataTable['output_type'] = 'display_data';\n",
              "          await google.colab.output.renderOutput(dataTable, element);\n",
              "          const docLink = document.createElement('div');\n",
              "          docLink.innerHTML = docLinkHtml;\n",
              "          element.appendChild(docLink);\n",
              "        }\n",
              "      </script>\n",
              "    </div>\n",
              "  </div>\n",
              "  "
            ]
          },
          "metadata": {},
          "execution_count": 14
        }
      ],
      "source": [
        "stock_price.tail()"
      ]
    },
    {
      "cell_type": "code",
      "execution_count": null,
      "id": "be13180e",
      "metadata": {
        "id": "be13180e"
      },
      "outputs": [],
      "source": [
        "stock_price_new = stock_price.reset_index()['close']"
      ]
    },
    {
      "cell_type": "code",
      "execution_count": null,
      "id": "892a619a",
      "metadata": {
        "colab": {
          "base_uri": "https://localhost:8080/"
        },
        "id": "892a619a",
        "outputId": "374cffd1-e914-4aa5-e2d1-6b7b66598ec2"
      },
      "outputs": [
        {
          "output_type": "execute_result",
          "data": {
            "text/plain": [
              "0       166.68\n",
              "1       168.39\n",
              "2       171.61\n",
              "3       172.80\n",
              "4       168.38\n",
              "         ...  \n",
              "1255    158.28\n",
              "1256    157.65\n",
              "1257    160.77\n",
              "1258    162.36\n",
              "1259    164.90\n",
              "Name: close, Length: 1260, dtype: float64"
            ]
          },
          "metadata": {},
          "execution_count": 16
        }
      ],
      "source": [
        "stock_price_new"
      ]
    },
    {
      "cell_type": "code",
      "execution_count": null,
      "id": "1f98aeb7",
      "metadata": {
        "colab": {
          "base_uri": "https://localhost:8080/"
        },
        "id": "1f98aeb7",
        "outputId": "edbd19e1-4c9c-42a7-b24e-7d88ce1cbeb7"
      },
      "outputs": [
        {
          "output_type": "execute_result",
          "data": {
            "text/plain": [
              "(1260,)"
            ]
          },
          "metadata": {},
          "execution_count": 17
        }
      ],
      "source": [
        "stock_price_new.shape"
      ]
    },
    {
      "cell_type": "code",
      "execution_count": null,
      "id": "aae95a09",
      "metadata": {
        "colab": {
          "base_uri": "https://localhost:8080/",
          "height": 447
        },
        "id": "aae95a09",
        "outputId": "92c4b465-8e29-4c79-e823-fb6ab3b7289d"
      },
      "outputs": [
        {
          "output_type": "execute_result",
          "data": {
            "text/plain": [
              "[<matplotlib.lines.Line2D at 0x7f1fa5812310>]"
            ]
          },
          "metadata": {},
          "execution_count": 18
        },
        {
          "output_type": "display_data",
          "data": {
            "text/plain": [
              "<Figure size 640x480 with 1 Axes>"
            ],
            "image/png": "[encoded data removed]"
          },
          "metadata": {}
        }
      ],
      "source": [
        "plt.plot(stock_price_new)"
      ]
    },
    {
      "cell_type": "markdown",
      "id": "14d1533a",
      "metadata": {
        "id": "14d1533a"
      },
      "source": [
        "LSTM are sensitive to the scale of the date, so we apply minmax scalar"
      ]
    },
    {
      "cell_type": "code",
      "execution_count": null,
      "id": "ac14c37d",
      "metadata": {
        "id": "ac14c37d"
      },
      "outputs": [],
      "source": [
        "scalar = MinMaxScaler(feature_range=(0,1)) ## feature_range : scale the values to this range\n",
        "stock_price_new = scalar.fit_transform(np.array(stock_price_new).reshape(-1,1))"
      ]
    },
    {
      "cell_type": "code",
      "execution_count": null,
      "id": "201a8c40",
      "metadata": {
        "colab": {
          "base_uri": "https://localhost:8080/"
        },
        "id": "201a8c40",
        "outputId": "41fb1745-34bc-453b-f997-5bcf8f57fb04"
      },
      "outputs": [
        {
          "output_type": "execute_result",
          "data": {
            "text/plain": [
              "array([[0.14988103],\n",
              "       [0.15416406],\n",
              "       [0.16222918],\n",
              "       ...,\n",
              "       [0.13507827],\n",
              "       [0.13906074],\n",
              "       [0.14542267]])"
            ]
          },
          "metadata": {},
          "execution_count": 21
        }
      ],
      "source": [
        "stock_price_new"
      ]
    },
    {
      "cell_type": "code",
      "execution_count": null,
      "id": "f64cf010",
      "metadata": {
        "colab": {
          "base_uri": "https://localhost:8080/"
        },
        "id": "f64cf010",
        "outputId": "cce414fe-2757-4320-f0ab-7f143920ffe6"
      },
      "outputs": [
        {
          "output_type": "execute_result",
          "data": {
            "text/plain": [
              "(1260, 1)"
            ]
          },
          "metadata": {},
          "execution_count": 22
        }
      ],
      "source": [
        "stock_price_new.shape"
      ]
    },
    {
      "cell_type": "code",
      "execution_count": null,
      "id": "05bb52cb",
      "metadata": {
        "colab": {
          "base_uri": "https://localhost:8080/",
          "height": 447
        },
        "id": "05bb52cb",
        "outputId": "c7ffee56-6eef-4122-8412-ecac69385ae6"
      },
      "outputs": [
        {
          "output_type": "execute_result",
          "data": {
            "text/plain": [
              "[<matplotlib.lines.Line2D at 0x7f1fa2f35460>]"
            ]
          },
          "metadata": {},
          "execution_count": 23
        },
        {
          "output_type": "display_data",
          "data": {
            "text/plain": [
              "<Figure size 640x480 with 1 Axes>"
            ],
            "image/png": "[encoded data removed]"
          },
          "metadata": {}
        }
      ],
      "source": [
        "plt.plot(stock_price_new) "
      ]
    },
    {
      "cell_type": "code",
      "execution_count": null,
      "id": "ce22e6b6",
      "metadata": {
        "id": "ce22e6b6"
      },
      "outputs": [],
      "source": [
        "#split into train and test dataset\n",
        "\n",
        "train_size = int(len(stock_price_new)*0.65)\n",
        "test_size = len(stock_price_new) - train_size\n",
        "train_stock_price = stock_price_new[:train_size,:]\n",
        "test_stock_price = stock_price_new[train_size:,:1]"
      ]
    },
    {
      "cell_type": "code",
      "execution_count": null,
      "id": "4f5182b2",
      "metadata": {
        "colab": {
          "base_uri": "https://localhost:8080/"
        },
        "id": "4f5182b2",
        "outputId": "e6a25532-a5fd-4791-bbd5-792323c24f8c"
      },
      "outputs": [
        {
          "output_type": "stream",
          "name": "stdout",
          "text": [
            "train data shape - (819, 1) \n",
            "test data shape - (441, 1)\n"
          ]
        }
      ],
      "source": [
        "print(\"train data shape -\", train_stock_price.shape,\"\\ntest data shape -\", test_stock_price.shape)"
      ]
    },
    {
      "cell_type": "code",
      "execution_count": null,
      "id": "df3249a9",
      "metadata": {
        "colab": {
          "base_uri": "https://localhost:8080/"
        },
        "id": "df3249a9",
        "outputId": "99a5efe0-24f9-4705-c95f-4da7649634d5"
      },
      "outputs": [
        {
          "output_type": "execute_result",
          "data": {
            "text/plain": [
              "array([[1.49881027e-01],\n",
              "       [1.54164058e-01],\n",
              "       [1.62229180e-01],\n",
              "       [1.65209768e-01],\n",
              "       [1.54139011e-01],\n",
              "       [1.58321853e-01],\n",
              "       [1.66336882e-01],\n",
              "       [1.64308078e-01],\n",
              "       [1.68566061e-01],\n",
              "       [1.70043832e-01],\n",
              "       [1.72773951e-01],\n",
              "       [1.78835316e-01],\n",
              "       [1.77833438e-01],\n",
              "       [1.65209768e-01],\n",
              "       [1.47476518e-01],\n",
              "       [1.46274264e-01],\n",
              "       [1.40513463e-01],\n",
              "       [1.42291797e-01],\n",
              "       [1.43719474e-01],\n",
              "       [1.38960551e-01],\n",
              "       [1.46324358e-01],\n",
              "       [1.55942392e-01],\n",
              "       [1.74652473e-01],\n",
              "       [1.75453976e-01],\n",
              "       [1.92836569e-01],\n",
              "       [1.96167815e-01],\n",
              "       [1.98396994e-01],\n",
              "       [2.01678147e-01],\n",
              "       [2.08390733e-01],\n",
              "       [2.04758923e-01],\n",
              "       [2.03656857e-01],\n",
              "       [1.99373826e-01],\n",
              "       [2.03731997e-01],\n",
              "       [2.00751409e-01],\n",
              "       [1.99048215e-01],\n",
              "       [2.02354415e-01],\n",
              "       [2.01177207e-01],\n",
              "       [2.04182843e-01],\n",
              "       [2.03656857e-01],\n",
              "       [2.04733876e-01],\n",
              "       [2.03030683e-01],\n",
              "       [2.02028804e-01],\n",
              "       [2.00450845e-01],\n",
              "       [2.08891672e-01],\n",
              "       [2.12874139e-01],\n",
              "       [2.16581090e-01],\n",
              "       [2.18259236e-01],\n",
              "       [2.16956794e-01],\n",
              "       [2.12548528e-01],\n",
              "       [2.11371321e-01],\n",
              "       [2.14001252e-01],\n",
              "       [2.10043832e-01],\n",
              "       [2.10294302e-01],\n",
              "       [2.05385097e-01],\n",
              "       [2.05134627e-01],\n",
              "       [1.97495304e-01],\n",
              "       [1.99524108e-01],\n",
              "       [1.96919224e-01],\n",
              "       [1.95566688e-01],\n",
              "       [1.88678773e-01],\n",
              "       [1.94339386e-01],\n",
              "       [1.93663118e-01],\n",
              "       [1.97019411e-01],\n",
              "       [1.96042580e-01],\n",
              "       [2.01227301e-01],\n",
              "       [1.93061991e-01],\n",
              "       [1.96768942e-01],\n",
              "       [2.03206011e-01],\n",
              "       [2.09743269e-01],\n",
              "       [2.09167188e-01],\n",
              "       [2.02980589e-01],\n",
              "       [2.10870382e-01],\n",
              "       [2.11621791e-01],\n",
              "       [2.10569818e-01],\n",
              "       [2.11922354e-01],\n",
              "       [2.09292423e-01],\n",
              "       [2.12999374e-01],\n",
              "       [2.11897307e-01],\n",
              "       [2.12323106e-01],\n",
              "       [2.15804634e-01],\n",
              "       [2.20363181e-01],\n",
              "       [2.18835316e-01],\n",
              "       [2.10745147e-01],\n",
              "       [2.08065122e-01],\n",
              "       [2.09016907e-01],\n",
              "       [2.37094552e-01],\n",
              "       [2.51847214e-01],\n",
              "       [2.53350031e-01],\n",
              "       [2.56055103e-01],\n",
              "       [2.51145899e-01],\n",
              "       [2.51496556e-01],\n",
              "       [2.55579211e-01],\n",
              "       [2.52197871e-01],\n",
              "       [2.55554164e-01],\n",
              "       [2.57758297e-01],\n",
              "       [2.58985598e-01],\n",
              "       [2.66700063e-01],\n",
              "       [2.77370069e-01],\n",
              "       [2.72060113e-01],\n",
              "       [2.71008140e-01],\n",
              "       [2.71033187e-01],\n",
              "       [2.72135254e-01],\n",
              "       [2.73813400e-01],\n",
              "       [2.78271760e-01],\n",
              "       [2.82680025e-01],\n",
              "       [2.90895429e-01],\n",
              "       [2.96030056e-01],\n",
              "       [3.02542267e-01],\n",
              "       [3.04370695e-01],\n",
              "       [3.00638698e-01],\n",
              "       [2.91195992e-01],\n",
              "       [2.86687539e-01],\n",
              "       [2.79248591e-01],\n",
              "       [2.93074515e-01],\n",
              "       [2.86111459e-01],\n",
              "       [2.99486537e-01],\n",
              "       [2.93049468e-01],\n",
              "       [2.78121478e-01],\n",
              "       [2.79023168e-01],\n",
              "       [2.79348779e-01],\n",
              "       [2.83506575e-01],\n",
              "       [2.77570445e-01],\n",
              "       [2.85410144e-01],\n",
              "       [2.88916719e-01],\n",
              "       [2.84483406e-01],\n",
              "       [2.95829681e-01],\n",
              "       [2.97808391e-01],\n",
              "       [3.01615529e-01],\n",
              "       [3.06675016e-01],\n",
              "       [3.13663118e-01],\n",
              "       [3.03443957e-01],\n",
              "       [2.94176581e-01],\n",
              "       [2.92874139e-01],\n",
              "       [3.00638698e-01],\n",
              "       [2.74314339e-01],\n",
              "       [2.69530369e-01],\n",
              "       [2.88716343e-01],\n",
              "       [2.76819036e-01],\n",
              "       [2.88816531e-01],\n",
              "       [2.86412023e-01],\n",
              "       [2.73462743e-01],\n",
              "       [2.81703193e-01],\n",
              "       [2.85059487e-01],\n",
              "       [2.90269255e-01],\n",
              "       [2.71133375e-01],\n",
              "       [2.82930495e-01],\n",
              "       [2.74164058e-01],\n",
              "       [2.63994991e-01],\n",
              "       [2.66649969e-01],\n",
              "       [2.80576080e-01],\n",
              "       [2.88991860e-01],\n",
              "       [2.52072636e-01],\n",
              "       [2.37319975e-01],\n",
              "       [2.42780213e-01],\n",
              "       [2.58259236e-01],\n",
              "       [2.54602379e-01],\n",
              "       [2.44533500e-01],\n",
              "       [2.18735128e-01],\n",
              "       [2.13876018e-01],\n",
              "       [2.00275517e-01],\n",
              "       [2.11822167e-01],\n",
              "       [2.17132123e-01],\n",
              "       [1.97921102e-01],\n",
              "       [1.75679399e-01],\n",
              "       [1.75178460e-01],\n",
              "       [1.63932373e-01],\n",
              "       [1.69768316e-01],\n",
              "       [1.68816531e-01],\n",
              "       [1.85597996e-01],\n",
              "       [1.82116468e-01],\n",
              "       [1.79686913e-01],\n",
              "       [1.95316218e-01],\n",
              "       [1.74953037e-01],\n",
              "       [1.70018785e-01],\n",
              "       [1.54414527e-01],\n",
              "       [1.57194740e-01],\n",
              "       [1.54765185e-01],\n",
              "       [1.55942392e-01],\n",
              "       [1.60576080e-01],\n",
              "       [1.46875391e-01],\n",
              "       [1.43018159e-01],\n",
              "       [1.48353162e-01],\n",
              "       [1.35378835e-01],\n",
              "       [1.25209768e-01],\n",
              "       [1.09931121e-01],\n",
              "       [1.00162805e-01],\n",
              "       [1.26061365e-01],\n",
              "       [1.23506575e-01],\n",
              "       [1.23706951e-01],\n",
              "       [1.27489042e-01],\n",
              "       [1.27939887e-01],\n",
              "       [8.85410144e-02],\n",
              "       [1.03744521e-01],\n",
              "       [1.02917971e-01],\n",
              "       [1.09981215e-01],\n",
              "       [1.16393237e-01],\n",
              "       [1.17620539e-01],\n",
              "       [1.13838447e-01],\n",
              "       [1.08102693e-01],\n",
              "       [1.15792110e-01],\n",
              "       [1.20475892e-01],\n",
              "       [1.22780213e-01],\n",
              "       [1.25184721e-01],\n",
              "       [1.16368190e-01],\n",
              "       [1.17921102e-01],\n",
              "       [1.14865373e-01],\n",
              "       [1.27539136e-01],\n",
              "       [1.23882279e-01],\n",
              "       [1.19824671e-01],\n",
              "       [1.46299311e-01],\n",
              "       [1.49279900e-01],\n",
              "       [1.49480276e-01],\n",
              "       [1.61327489e-01],\n",
              "       [1.68666249e-01],\n",
              "       [1.68816531e-01],\n",
              "       [1.60551033e-01],\n",
              "       [1.59223544e-01],\n",
              "       [1.56768942e-01],\n",
              "       [1.60425798e-01],\n",
              "       [1.58647464e-01],\n",
              "       [1.60200376e-01],\n",
              "       [1.59248591e-01],\n",
              "       [1.60525986e-01],\n",
              "       [1.63281152e-01],\n",
              "       [1.60851597e-01],\n",
              "       [1.65635567e-01],\n",
              "       [1.68791484e-01],\n",
              "       [1.69041954e-01],\n",
              "       [1.70394490e-01],\n",
              "       [1.66086412e-01],\n",
              "       [1.70644959e-01],\n",
              "       [1.72849092e-01],\n",
              "       [1.72047589e-01],\n",
              "       [1.69517846e-01],\n",
              "       [1.64458359e-01],\n",
              "       [1.65485285e-01],\n",
              "       [1.80488416e-01],\n",
              "       [1.85522855e-01],\n",
              "       [1.87526612e-01],\n",
              "       [1.92586099e-01],\n",
              "       [1.98572323e-01],\n",
              "       [2.03331246e-01],\n",
              "       [1.99599249e-01],\n",
              "       [2.03681904e-01],\n",
              "       [2.21039449e-01],\n",
              "       [2.10920476e-01],\n",
              "       [2.05134627e-01],\n",
              "       [2.00250470e-01],\n",
              "       [2.04458359e-01],\n",
              "       [2.05084534e-01],\n",
              "       [2.08165310e-01],\n",
              "       [2.11396368e-01],\n",
              "       [2.18359424e-01],\n",
              "       [2.21690670e-01],\n",
              "       [2.22542267e-01],\n",
              "       [2.25823419e-01],\n",
              "       [2.33587977e-01],\n",
              "       [2.32085160e-01],\n",
              "       [2.34890420e-01],\n",
              "       [2.30707577e-01],\n",
              "       [2.30507201e-01],\n",
              "       [2.31408892e-01],\n",
              "       [2.31458986e-01],\n",
              "       [2.41177207e-01],\n",
              "       [2.43005636e-01],\n",
              "       [2.44683782e-01],\n",
              "       [2.52072636e-01],\n",
              "       [2.51271133e-01],\n",
              "       [2.46562304e-01],\n",
              "       [2.44107702e-01],\n",
              "       [2.44884158e-01],\n",
              "       [2.35015654e-01],\n",
              "       [2.59686913e-01],\n",
              "       [2.56255479e-01],\n",
              "       [2.62767689e-01],\n",
              "       [2.54577332e-01],\n",
              "       [2.40500939e-01],\n",
              "       [2.40601127e-01],\n",
              "       [2.35140889e-01],\n",
              "       [2.26274264e-01],\n",
              "       [1.97570445e-01],\n",
              "       [2.04934252e-01],\n",
              "       [2.10594865e-01],\n",
              "       [2.08490920e-01],\n",
              "       [2.05785848e-01],\n",
              "       [1.90983093e-01],\n",
              "       [1.99774577e-01],\n",
              "       [1.90206637e-01],\n",
              "       [1.82391985e-01],\n",
              "       [1.80663745e-01],\n",
              "       [1.78810269e-01],\n",
              "       [1.76681277e-01],\n",
              "       [1.78985598e-01],\n",
              "       [1.70895429e-01],\n",
              "       [1.66462116e-01],\n",
              "       [1.82341891e-01],\n",
              "       [1.89605510e-01],\n",
              "       [1.96318096e-01],\n",
              "       [2.08666249e-01],\n",
              "       [2.14752661e-01],\n",
              "       [2.20338134e-01],\n",
              "       [2.18785222e-01],\n",
              "       [2.18685034e-01],\n",
              "       [2.15153413e-01],\n",
              "       [2.18033813e-01],\n",
              "       [2.29455229e-01],\n",
              "       [2.28002505e-01],\n",
              "       [2.31984972e-01],\n",
              "       [2.30281778e-01],\n",
              "       [2.29780839e-01],\n",
              "       [2.22241703e-01],\n",
              "       [2.32836569e-01],\n",
              "       [2.32686287e-01],\n",
              "       [2.28127740e-01],\n",
              "       [2.37219787e-01],\n",
              "       [2.40175329e-01],\n",
              "       [2.44383219e-01],\n",
              "       [2.43932373e-01],\n",
              "       [2.33387602e-01],\n",
              "       [2.36443331e-01],\n",
              "       [2.41427677e-01],\n",
              "       [2.37720726e-01],\n",
              "       [2.41603006e-01],\n",
              "       [2.46386976e-01],\n",
              "       [2.44608641e-01],\n",
              "       [2.41728240e-01],\n",
              "       [2.47514089e-01],\n",
              "       [2.39824671e-01],\n",
              "       [2.51421415e-01],\n",
              "       [2.55479023e-01],\n",
              "       [2.55053225e-01],\n",
              "       [2.50920476e-01],\n",
              "       [2.52723857e-01],\n",
              "       [2.57582968e-01],\n",
              "       [2.55328741e-01],\n",
              "       [2.65998748e-01],\n",
              "       [2.54452098e-01],\n",
              "       [2.43406387e-01],\n",
              "       [2.16656230e-01],\n",
              "       [2.25823419e-01],\n",
              "       [2.30932999e-01],\n",
              "       [2.41928616e-01],\n",
              "       [2.35817157e-01],\n",
              "       [2.34539762e-01],\n",
              "       [2.55804634e-01],\n",
              "       [2.40225423e-01],\n",
              "       [2.37695679e-01],\n",
              "       [2.49618034e-01],\n",
              "       [2.59261115e-01],\n",
              "       [2.59286162e-01],\n",
              "       [2.64996869e-01],\n",
              "       [2.64546024e-01],\n",
              "       [2.39949906e-01],\n",
              "       [2.49592987e-01],\n",
              "       [2.43757044e-01],\n",
              "       [2.47188478e-01],\n",
              "       [2.55904822e-01],\n",
              "       [2.55228554e-01],\n",
              "       [2.47614277e-01],\n",
              "       [2.56355667e-01],\n",
              "       [2.66599875e-01],\n",
              "       [2.66549781e-01],\n",
              "       [2.68829054e-01],\n",
              "       [2.75165936e-01],\n",
              "       [2.92423294e-01],\n",
              "       [2.91170946e-01],\n",
              "       [2.80300564e-01],\n",
              "       [2.83180964e-01],\n",
              "       [2.85184721e-01],\n",
              "       [2.90369443e-01],\n",
              "       [2.85835942e-01],\n",
              "       [2.77745773e-01],\n",
              "       [2.80225423e-01],\n",
              "       [2.77620539e-01],\n",
              "       [2.86011271e-01],\n",
              "       [2.83155917e-01],\n",
              "       [2.80475892e-01],\n",
              "       [2.93375078e-01],\n",
              "       [2.94927990e-01],\n",
              "       [2.80826550e-01],\n",
              "       [2.85485285e-01],\n",
              "       [3.00989355e-01],\n",
              "       [3.01114590e-01],\n",
              "       [2.94452098e-01],\n",
              "       [3.01039449e-01],\n",
              "       [3.08703820e-01],\n",
              "       [3.24032561e-01],\n",
              "       [3.23180964e-01],\n",
              "       [3.21803381e-01],\n",
              "       [3.19423920e-01],\n",
              "       [3.21703193e-01],\n",
              "       [3.24533500e-01],\n",
              "       [3.34802755e-01],\n",
              "       [3.33425172e-01],\n",
              "       [3.41490294e-01],\n",
              "       [3.42492173e-01],\n",
              "       [3.50006262e-01],\n",
              "       [3.56192862e-01],\n",
              "       [3.41765811e-01],\n",
              "       [3.41690670e-01],\n",
              "       [3.55466500e-01],\n",
              "       [3.73149656e-01],\n",
              "       [3.77357545e-01],\n",
              "       [3.76430808e-01],\n",
              "       [3.76706324e-01],\n",
              "       [3.82191609e-01],\n",
              "       [3.83969944e-01],\n",
              "       [3.89129618e-01],\n",
              "       [3.88528491e-01],\n",
              "       [3.94815279e-01],\n",
              "       [3.90231684e-01],\n",
              "       [3.98046337e-01],\n",
              "       [4.01402630e-01],\n",
              "       [3.99373826e-01],\n",
              "       [3.91609267e-01],\n",
              "       [3.88653726e-01],\n",
              "       [3.88077646e-01],\n",
              "       [3.99574202e-01],\n",
              "       [3.94364433e-01],\n",
              "       [4.03256105e-01],\n",
              "       [4.01778334e-01],\n",
              "       [3.94038823e-01],\n",
              "       [3.82241703e-01],\n",
              "       [3.87977458e-01],\n",
              "       [3.97595492e-01],\n",
              "       [4.10444584e-01],\n",
              "       [4.00951785e-01],\n",
              "       [4.04859111e-01],\n",
              "       [4.10594865e-01],\n",
              "       [4.12323106e-01],\n",
              "       [4.21565435e-01],\n",
              "       [4.33362555e-01],\n",
              "       [4.34740138e-01],\n",
              "       [4.33061991e-01],\n",
              "       [4.33763306e-01],\n",
              "       [4.32310582e-01],\n",
              "       [4.43731997e-01],\n",
              "       [4.44408265e-01],\n",
              "       [4.58534753e-01],\n",
              "       [4.58259236e-01],\n",
              "       [4.62567314e-01],\n",
              "       [4.67902317e-01],\n",
              "       [4.84683782e-01],\n",
              "       [4.77370069e-01],\n",
              "       [4.83306199e-01],\n",
              "       [4.79774577e-01],\n",
              "       [4.91797120e-01],\n",
              "       [5.07927364e-01],\n",
              "       [5.09680651e-01],\n",
              "       [5.26286788e-01],\n",
              "       [5.15566688e-01],\n",
              "       [5.12210394e-01],\n",
              "       [5.21978710e-01],\n",
              "       [5.30720100e-01],\n",
              "       [5.25309956e-01],\n",
              "       [5.28140263e-01],\n",
              "       [5.31972448e-01],\n",
              "       [5.29668128e-01],\n",
              "       [5.06224170e-01],\n",
              "       [5.28115216e-01],\n",
              "       [5.44771446e-01],\n",
              "       [5.43594239e-01],\n",
              "       [5.07626800e-01],\n",
              "       [5.05497808e-01],\n",
              "       [5.31020664e-01],\n",
              "       [5.37532874e-01],\n",
              "       [5.46950532e-01],\n",
              "       [5.33976205e-01],\n",
              "       [5.37783344e-01],\n",
              "       [5.32924233e-01],\n",
              "       [5.51934878e-01],\n",
              "       [5.46098936e-01],\n",
              "       [5.46299311e-01],\n",
              "       [5.31396368e-01],\n",
              "       [5.42968065e-01],\n",
              "       [5.34652473e-01],\n",
              "       [5.16493425e-01],\n",
              "       [4.79248591e-01],\n",
              "       [4.53951158e-01],\n",
              "       [4.65397621e-01],\n",
              "       [4.17482780e-01],\n",
              "       [4.17082029e-01],\n",
              "       [4.80826550e-01],\n",
              "       [4.57056982e-01],\n",
              "       [4.90670006e-01],\n",
              "       [4.66073889e-01],\n",
              "       [4.56330620e-01],\n",
              "       [3.99073262e-01],\n",
              "       [4.47088291e-01],\n",
              "       [4.22266750e-01],\n",
              "       [3.54139011e-01],\n",
              "       [4.28628679e-01],\n",
              "       [3.39060739e-01],\n",
              "       [3.65735755e-01],\n",
              "       [3.50231684e-01],\n",
              "       [3.45497808e-01],\n",
              "       [3.06574828e-01],\n",
              "       [2.94376957e-01],\n",
              "       [3.50757671e-01],\n",
              "       [3.47351284e-01],\n",
              "       [3.79711960e-01],\n",
              "       [3.52911709e-01],\n",
              "       [3.70619912e-01],\n",
              "       [3.69317470e-01],\n",
              "       [3.35804634e-01],\n",
              "       [3.45873513e-01],\n",
              "       [3.37056982e-01],\n",
              "       [3.89805886e-01],\n",
              "       [3.82191609e-01],\n",
              "       [3.98822793e-01],\n",
              "       [4.03631810e-01],\n",
              "       [4.16806512e-01],\n",
              "       [4.51371321e-01],\n",
              "       [4.44809017e-01],\n",
              "       [4.50469631e-01],\n",
              "       [4.40726362e-01],\n",
              "       [4.26023795e-01],\n",
              "       [4.04583594e-01],\n",
              "       [4.23944897e-01],\n",
              "       [4.21264872e-01],\n",
              "       [4.41152160e-01],\n",
              "       [4.41653100e-01],\n",
              "       [4.30156544e-01],\n",
              "       [4.53074515e-01],\n",
              "       [4.68278021e-01],\n",
              "       [4.56430808e-01],\n",
              "       [4.66675016e-01],\n",
              "       [4.77695679e-01],\n",
              "       [4.85385097e-01],\n",
              "       [4.93174703e-01],\n",
              "       [5.09179712e-01],\n",
              "       [5.21402630e-01],\n",
              "       [5.12385723e-01],\n",
              "       [5.02968065e-01],\n",
              "       [5.07701941e-01],\n",
              "       [5.03118347e-01],\n",
              "       [5.21277395e-01],\n",
              "       [5.16718848e-01],\n",
              "       [5.31972448e-01],\n",
              "       [5.26011271e-01],\n",
              "       [5.31120852e-01],\n",
              "       [5.25710708e-01],\n",
              "       [5.29167188e-01],\n",
              "       [5.29517846e-01],\n",
              "       [5.28741390e-01],\n",
              "       [5.38534753e-01],\n",
              "       [5.42266750e-01],\n",
              "       [5.46725110e-01],\n",
              "       [5.39711960e-01],\n",
              "       [5.62705072e-01],\n",
              "       [5.67614277e-01],\n",
              "       [5.93988729e-01],\n",
              "       [6.16155291e-01],\n",
              "       [5.73725736e-01],\n",
              "       [5.80989355e-01],\n",
              "       [5.91484033e-01],\n",
              "       [6.14251722e-01],\n",
              "       [6.13024421e-01],\n",
              "       [6.13375078e-01],\n",
              "       [6.08340639e-01],\n",
              "       [6.31258610e-01],\n",
              "       [6.50444584e-01],\n",
              "       [6.34239198e-01],\n",
              "       [6.46211647e-01],\n",
              "       [6.18134001e-01],\n",
              "       [6.38547276e-01],\n",
              "       [6.46111459e-01],\n",
              "       [6.44383219e-01],\n",
              "       [6.44383219e-01],\n",
              "       [6.68778961e-01],\n",
              "       [6.65873513e-01],\n",
              "       [6.87614277e-01],\n",
              "       [6.91721979e-01],\n",
              "       [6.93400125e-01],\n",
              "       [6.88966813e-01],\n",
              "       [7.04796493e-01],\n",
              "       [7.11484033e-01],\n",
              "       [6.99436443e-01],\n",
              "       [6.97482780e-01],\n",
              "       [7.17820914e-01],\n",
              "       [7.04220413e-01],\n",
              "       [7.06950532e-01],\n",
              "       [6.62592361e-01],\n",
              "       [6.60288040e-01],\n",
              "       [6.82279274e-01],\n",
              "       [6.66675016e-01],\n",
              "       [6.84583594e-01],\n",
              "       [6.96105197e-01],\n",
              "       [7.96994364e-01],\n",
              "       [8.23819662e-01],\n",
              "       [8.31108328e-01],\n",
              "       [8.35090795e-01],\n",
              "       [8.73562930e-01],\n",
              "       [8.45610520e-01],\n",
              "       [8.61790858e-01],\n",
              "       [8.28202880e-01],\n",
              "       [8.64621165e-01],\n",
              "       [8.84658735e-01],\n",
              "       [8.83631810e-01],\n",
              "       [8.80626174e-01],\n",
              "       [8.90194114e-01],\n",
              "       [8.91646838e-01],\n",
              "       [9.17370069e-01],\n",
              "       [9.78434565e-01],\n",
              "       [9.93337508e-01],\n",
              "       [9.82993112e-01],\n",
              "       [1.00000000e+00],\n",
              "       [9.84846587e-01],\n",
              "       [9.82817783e-01],\n",
              "       [5.56042580e-02],\n",
              "       [6.84783970e-02],\n",
              "       [6.15153413e-02],\n",
              "       [3.51659361e-02],\n",
              "       [3.53663118e-02],\n",
              "       [1.49780839e-02],\n",
              "       [2.62492173e-02],\n",
              "       [1.66562304e-02],\n",
              "       [1.29242329e-02],\n",
              "       [2.13274890e-02],\n",
              "       [2.17908579e-02],\n",
              "       [1.32498435e-02],\n",
              "       [8.76643707e-03],\n",
              "       [0.00000000e+00],\n",
              "       [8.11521603e-03],\n",
              "       [1.24483406e-02],\n",
              "       [7.01314966e-04],\n",
              "       [3.45648090e-03],\n",
              "       [1.36255479e-02],\n",
              "       [2.03381340e-02],\n",
              "       [1.81590482e-02],\n",
              "       [2.24671259e-02],\n",
              "       [2.49217282e-02],\n",
              "       [1.54790232e-02],\n",
              "       [2.41953663e-02],\n",
              "       [1.58296807e-02],\n",
              "       [2.06386976e-02],\n",
              "       [2.03631810e-02],\n",
              "       [2.53725736e-02],\n",
              "       [4.39824671e-02],\n",
              "       [3.57169693e-02],\n",
              "       [3.59423920e-02],\n",
              "       [3.47401378e-02],\n",
              "       [3.05072010e-02],\n",
              "       [2.28929242e-02],\n",
              "       [2.67251096e-02],\n",
              "       [2.51221039e-02],\n",
              "       [2.23168441e-02],\n",
              "       [2.05385097e-02],\n",
              "       [2.05635567e-02],\n",
              "       [2.44458359e-02],\n",
              "       [1.09204759e-02],\n",
              "       [2.12398247e-02],\n",
              "       [5.05948654e-03],\n",
              "       [4.83406387e-03],\n",
              "       [9.01690670e-03],\n",
              "       [2.03130870e-02],\n",
              "       [3.05322480e-02],\n",
              "       [2.96806512e-02],\n",
              "       [2.37445210e-02],\n",
              "       [2.28678773e-02],\n",
              "       [3.16844083e-02],\n",
              "       [3.09830933e-02],\n",
              "       [3.11083281e-02],\n",
              "       [3.37132123e-02],\n",
              "       [3.14339386e-02],\n",
              "       [2.80275517e-02],\n",
              "       [2.95554164e-02],\n",
              "       [2.62993112e-02],\n",
              "       [1.75579211e-02],\n",
              "       [2.08641202e-02],\n",
              "       [2.30181590e-02],\n",
              "       [2.44207890e-02],\n",
              "       [3.05823419e-02],\n",
              "       [3.97745773e-02],\n",
              "       [4.06762680e-02],\n",
              "       [4.03256105e-02],\n",
              "       [3.85973701e-02],\n",
              "       [4.23544145e-02],\n",
              "       [4.39323732e-02],\n",
              "       [3.74201628e-02],\n",
              "       [4.10770194e-02],\n",
              "       [3.89981215e-02],\n",
              "       [3.74201628e-02],\n",
              "       [5.26988103e-02],\n",
              "       [5.25234815e-02],\n",
              "       [5.47526612e-02],\n",
              "       [4.96305573e-02],\n",
              "       [5.35754540e-02],\n",
              "       [6.27175955e-02],\n",
              "       [6.04132749e-02],\n",
              "       [6.29430182e-02],\n",
              "       [7.47651847e-02],\n",
              "       [7.02066374e-02],\n",
              "       [6.73262367e-02],\n",
              "       [6.47463995e-02],\n",
              "       [5.65309956e-02],\n",
              "       [6.05385097e-02],\n",
              "       [4.94927990e-02],\n",
              "       [6.03130870e-02],\n",
              "       [6.31433939e-02],\n",
              "       [5.54539762e-02],\n",
              "       [5.50031309e-02],\n",
              "       [6.02379461e-02],\n",
              "       [5.52786475e-02],\n",
              "       [5.08453350e-02],\n",
              "       [5.25735755e-02],\n",
              "       [6.30932999e-02],\n",
              "       [7.52160301e-02],\n",
              "       [8.07263619e-02],\n",
              "       [9.03694427e-02],\n",
              "       [9.09705698e-02],\n",
              "       [8.82154039e-02],\n",
              "       [7.57670632e-02],\n",
              "       [6.29179712e-02],\n",
              "       [6.83782091e-02],\n",
              "       [7.05072010e-02],\n",
              "       [6.78772699e-02],\n",
              "       [7.65184721e-02],\n",
              "       [7.49405135e-02],\n",
              "       [7.53162179e-02],\n",
              "       [7.30619912e-02],\n",
              "       [7.15090795e-02],\n",
              "       [7.08578585e-02],\n",
              "       [7.14589856e-02],\n",
              "       [6.59987477e-02],\n",
              "       [6.01127113e-02],\n",
              "       [5.72824045e-02],\n",
              "       [5.76831559e-02],\n",
              "       [4.79899812e-02],\n",
              "       [4.76393237e-02],\n",
              "       [4.63619286e-02],\n",
              "       [3.54414527e-02],\n",
              "       [3.61177207e-02],\n",
              "       [5.24733876e-02],\n",
              "       [4.57858485e-02],\n",
              "       [3.81214778e-02],\n",
              "       [3.32874139e-02],\n",
              "       [3.65184721e-02],\n",
              "       [2.38447088e-02],\n",
              "       [3.56793989e-02],\n",
              "       [3.29117095e-02],\n",
              "       [3.78710081e-02],\n",
              "       [3.55416406e-02],\n",
              "       [4.29555416e-02],\n",
              "       [4.69129618e-02],\n",
              "       [4.48841578e-02],\n",
              "       [3.42892924e-02],\n",
              "       [3.29367564e-02],\n",
              "       [4.14527239e-02],\n",
              "       [3.93237320e-02],\n",
              "       [3.31872260e-02],\n",
              "       [3.44395742e-02],\n",
              "       [3.59924859e-02],\n",
              "       [3.64433312e-02],\n",
              "       [3.27113338e-02],\n",
              "       [3.83469004e-02],\n",
              "       [4.04758923e-02],\n",
              "       [4.77395116e-02],\n",
              "       [4.85159674e-02],\n",
              "       [5.27489042e-02],\n",
              "       [5.89104571e-02],\n",
              "       [6.55103319e-02],\n",
              "       [6.11145899e-02],\n",
              "       [6.91045711e-02],\n",
              "       [6.30932999e-02],\n",
              "       [6.92798998e-02],\n",
              "       [6.84283031e-02],\n",
              "       [7.01314966e-02],\n",
              "       [6.57983719e-02],\n",
              "       [6.67752035e-02],\n",
              "       [6.28678773e-02],\n",
              "       [6.88290545e-02],\n",
              "       [6.98309330e-02],\n",
              "       [6.90043832e-02],\n",
              "       [6.69755792e-02],\n",
              "       [6.67251096e-02],\n",
              "       [6.16656230e-02],\n",
              "       [6.43706951e-02],\n",
              "       [5.26236694e-02],\n",
              "       [5.32498435e-02],\n",
              "       [5.73575454e-02],\n",
              "       [5.85347527e-02],\n",
              "       [5.01189731e-02],\n",
              "       [4.77645585e-02],\n",
              "       [3.98998121e-02],\n",
              "       [4.54101440e-02],\n",
              "       [5.16217909e-02],\n",
              "       [4.86662492e-02],\n",
              "       [4.51095805e-02],\n",
              "       [4.47088291e-02],\n",
              "       [5.12711334e-02],\n",
              "       [4.65623043e-02],\n",
              "       [5.07451472e-02],\n",
              "       [5.02442079e-02],\n",
              "       [5.01189731e-02],\n",
              "       [4.61865999e-02],\n",
              "       [4.45084534e-02],\n",
              "       [4.36819036e-02],\n",
              "       [4.56355667e-02],\n",
              "       [4.18284283e-02],\n",
              "       [4.77144646e-02],\n",
              "       [4.77395116e-02],\n",
              "       [4.98434565e-02],\n",
              "       [5.08202880e-02],\n",
              "       [4.82654978e-02],\n",
              "       [5.13713212e-02],\n",
              "       [5.92110207e-02],\n",
              "       [5.71070758e-02],\n",
              "       [5.83844709e-02],\n",
              "       [6.24921728e-02],\n",
              "       [5.91609267e-02],\n",
              "       [6.37695679e-02],\n",
              "       [6.79774577e-02],\n",
              "       [6.72761428e-02],\n",
              "       [6.65497808e-02],\n",
              "       [6.57983719e-02],\n",
              "       [6.99812148e-02],\n",
              "       [7.38634941e-02],\n",
              "       [7.54414527e-02]])"
            ]
          },
          "metadata": {},
          "execution_count": 26
        }
      ],
      "source": [
        "train_stock_price"
      ]
    },
    {
      "cell_type": "code",
      "execution_count": null,
      "id": "d93d111d",
      "metadata": {
        "id": "d93d111d"
      },
      "outputs": [],
      "source": [
        "def create_dataset(data, time_step=1):\n",
        "    data_x, data_y = [], []\n",
        "    for i in range(len(data)-time_step-1):\n",
        "        d = data[i:(i+time_step),0]\n",
        "        data_x.append(d)\n",
        "        data_y.append(data[(i+time_step),0])\n",
        "        \n",
        "    return np.array(data_x), np.array(data_y)"
      ]
    },
    {
      "cell_type": "code",
      "execution_count": null,
      "id": "cc14fb38",
      "metadata": {
        "id": "cc14fb38"
      },
      "outputs": [],
      "source": [
        "x_train,y_train = create_dataset(train_stock_price, 100)\n",
        "x_test, y_test = create_dataset(test_stock_price, 100)"
      ]
    },
    {
      "cell_type": "code",
      "execution_count": null,
      "id": "2dae8803",
      "metadata": {
        "colab": {
          "base_uri": "https://localhost:8080/"
        },
        "id": "2dae8803",
        "outputId": "78ef933e-298d-404f-9483-9a05dd78e347"
      },
      "outputs": [
        {
          "output_type": "execute_result",
          "data": {
            "text/plain": [
              "((718, 100), (718,))"
            ]
          },
          "metadata": {},
          "execution_count": 29
        }
      ],
      "source": [
        "x_train.shape, y_train.shape"
      ]
    },
    {
      "cell_type": "code",
      "execution_count": null,
      "id": "74bab638",
      "metadata": {
        "colab": {
          "base_uri": "https://localhost:8080/"
        },
        "id": "74bab638",
        "outputId": "33599963-2ccf-4dfe-d580-ae78b683bd8b"
      },
      "outputs": [
        {
          "output_type": "execute_result",
          "data": {
            "text/plain": [
              "((340, 100), (340,))"
            ]
          },
          "metadata": {},
          "execution_count": 30
        }
      ],
      "source": [
        "x_test.shape, y_test.shape"
      ]
    },
    {
      "cell_type": "code",
      "execution_count": null,
      "id": "0950e29c",
      "metadata": {
        "id": "0950e29c"
      },
      "outputs": [],
      "source": [
        "x_train = x_train.reshape(x_train.shape[0],x_train.shape[1],1)\n",
        "x_test = x_test.reshape(x_test.shape[0],x_test.shape[1],1)"
      ]
    },
    {
      "cell_type": "code",
      "source": [
        "x_train.shape, x_test.shape"
      ],
      "metadata": {
        "colab": {
          "base_uri": "https://localhost:8080/"
        },
        "id": "NS0b4HkXyTCS",
        "outputId": "8808cf35-79be-4392-cfa0-201ff82b0478"
      },
      "id": "NS0b4HkXyTCS",
      "execution_count": null,
      "outputs": [
        {
          "output_type": "execute_result",
          "data": {
            "text/plain": [
              "((718, 100, 1), (340, 100, 1))"
            ]
          },
          "metadata": {},
          "execution_count": 44
        }
      ]
    },
    {
      "cell_type": "markdown",
      "id": "00a17a8d",
      "metadata": {
        "id": "00a17a8d"
      },
      "source": [
        "## LSTM "
      ]
    },
    {
      "cell_type": "code",
      "execution_count": null,
      "id": "dcb3f809",
      "metadata": {
        "id": "dcb3f809"
      },
      "outputs": [],
      "source": [
        "model = Sequential()\n",
        "model.add(LSTM(50, return_sequences=True, input_shape=(100,1)))\n",
        "model.add(LSTM(50, return_sequences=True))\n",
        "model.add(LSTM(50))\n",
        "model.add(Dense(1))\n",
        "model.compile(loss='mean_squared_error',optimizer='adam')"
      ]
    },
    {
      "cell_type": "code",
      "execution_count": null,
      "id": "63611a9a",
      "metadata": {
        "colab": {
          "base_uri": "https://localhost:8080/"
        },
        "id": "63611a9a",
        "outputId": "15fae336-e0a7-4cb8-f072-d758a9551910"
      },
      "outputs": [
        {
          "output_type": "stream",
          "name": "stdout",
          "text": [
            "Model: \"sequential\"\n",
            "_________________________________________________________________\n",
            " Layer (type)                Output Shape              Param #   \n",
            "=================================================================\n",
            " lstm (LSTM)                 (None, 100, 50)           10400     \n",
            "                                                                 \n",
            " lstm_1 (LSTM)               (None, 100, 50)           20200     \n",
            "                                                                 \n",
            " lstm_2 (LSTM)               (None, 50)                20200     \n",
            "                                                                 \n",
            " dense (Dense)               (None, 1)                 51        \n",
            "                                                                 \n",
            "=================================================================\n",
            "Total params: 50,851\n",
            "Trainable params: 50,851\n",
            "Non-trainable params: 0\n",
            "_________________________________________________________________\n"
          ]
        }
      ],
      "source": [
        "model.summary()"
      ]
    },
    {
      "cell_type": "code",
      "execution_count": null,
      "id": "999f57ba",
      "metadata": {
        "colab": {
          "base_uri": "https://localhost:8080/"
        },
        "id": "999f57ba",
        "outputId": "e405a528-afbb-4776-8ecb-1c3c0e26e9c2"
      },
      "outputs": [
        {
          "output_type": "stream",
          "name": "stdout",
          "text": [
            "Epoch 1/100\n",
            "12/12 [==============================] - 12s 404ms/step - loss: 0.0454 - val_loss: 0.0029\n",
            "Epoch 2/100\n",
            "12/12 [==============================] - 3s 214ms/step - loss: 0.0150 - val_loss: 0.0031\n",
            "Epoch 3/100\n",
            "12/12 [==============================] - 3s 214ms/step - loss: 0.0107 - val_loss: 4.4977e-04\n",
            "Epoch 4/100\n",
            "12/12 [==============================] - 3s 213ms/step - loss: 0.0100 - val_loss: 0.0011\n",
            "Epoch 5/100\n",
            "12/12 [==============================] - 4s 367ms/step - loss: 0.0104 - val_loss: 0.0011\n",
            "Epoch 6/100\n",
            "12/12 [==============================] - 3s 213ms/step - loss: 0.0098 - val_loss: 0.0019\n",
            "Epoch 7/100\n",
            "12/12 [==============================] - 4s 318ms/step - loss: 0.0082 - val_loss: 5.6862e-04\n",
            "Epoch 8/100\n",
            "12/12 [==============================] - 3s 218ms/step - loss: 0.0068 - val_loss: 7.3557e-04\n",
            "Epoch 9/100\n",
            "12/12 [==============================] - 4s 308ms/step - loss: 0.0068 - val_loss: 5.1281e-04\n",
            "Epoch 10/100\n",
            "12/12 [==============================] - 3s 279ms/step - loss: 0.0062 - val_loss: 4.4569e-04\n",
            "Epoch 11/100\n",
            "12/12 [==============================] - 3s 215ms/step - loss: 0.0054 - val_loss: 3.7960e-04\n",
            "Epoch 12/100\n",
            "12/12 [==============================] - 3s 218ms/step - loss: 0.0049 - val_loss: 3.1688e-04\n",
            "Epoch 13/100\n",
            "12/12 [==============================] - 3s 215ms/step - loss: 0.0051 - val_loss: 2.9399e-04\n",
            "Epoch 14/100\n",
            "12/12 [==============================] - 4s 312ms/step - loss: 0.0042 - val_loss: 5.4421e-04\n",
            "Epoch 15/100\n",
            "12/12 [==============================] - 3s 272ms/step - loss: 0.0046 - val_loss: 6.6916e-04\n",
            "Epoch 16/100\n",
            "12/12 [==============================] - 3s 210ms/step - loss: 0.0044 - val_loss: 5.9486e-04\n",
            "Epoch 17/100\n",
            "12/12 [==============================] - 3s 214ms/step - loss: 0.0038 - val_loss: 3.0452e-04\n",
            "Epoch 18/100\n",
            "12/12 [==============================] - 3s 243ms/step - loss: 0.0033 - val_loss: 3.0754e-04\n",
            "Epoch 19/100\n",
            "12/12 [==============================] - 4s 321ms/step - loss: 0.0035 - val_loss: 2.9159e-04\n",
            "Epoch 20/100\n",
            "12/12 [==============================] - 3s 267ms/step - loss: 0.0042 - val_loss: 4.4396e-04\n",
            "Epoch 21/100\n",
            "12/12 [==============================] - 3s 214ms/step - loss: 0.0039 - val_loss: 2.8256e-04\n",
            "Epoch 22/100\n",
            "12/12 [==============================] - 3s 215ms/step - loss: 0.0034 - val_loss: 2.7662e-04\n",
            "Epoch 23/100\n",
            "12/12 [==============================] - 3s 216ms/step - loss: 0.0028 - val_loss: 2.6642e-04\n",
            "Epoch 24/100\n",
            "12/12 [==============================] - 4s 313ms/step - loss: 0.0026 - val_loss: 2.7079e-04\n",
            "Epoch 25/100\n",
            "12/12 [==============================] - 3s 273ms/step - loss: 0.0023 - val_loss: 2.7639e-04\n",
            "Epoch 26/100\n",
            "12/12 [==============================] - 3s 217ms/step - loss: 0.0026 - val_loss: 2.4407e-04\n",
            "Epoch 27/100\n",
            "12/12 [==============================] - 3s 216ms/step - loss: 0.0023 - val_loss: 2.6039e-04\n",
            "Epoch 28/100\n",
            "12/12 [==============================] - 3s 220ms/step - loss: 0.0027 - val_loss: 3.8763e-04\n",
            "Epoch 29/100\n",
            "12/12 [==============================] - 7s 618ms/step - loss: 0.0027 - val_loss: 2.9695e-04\n",
            "Epoch 30/100\n",
            "12/12 [==============================] - 4s 355ms/step - loss: 0.0022 - val_loss: 3.5556e-04\n",
            "Epoch 31/100\n",
            "12/12 [==============================] - 3s 284ms/step - loss: 0.0025 - val_loss: 2.5568e-04\n",
            "Epoch 32/100\n",
            "12/12 [==============================] - 4s 309ms/step - loss: 0.0025 - val_loss: 3.2879e-04\n",
            "Epoch 33/100\n",
            "12/12 [==============================] - 3s 288ms/step - loss: 0.0022 - val_loss: 2.6087e-04\n",
            "Epoch 34/100\n",
            "12/12 [==============================] - 4s 325ms/step - loss: 0.0022 - val_loss: 2.5593e-04\n",
            "Epoch 35/100\n",
            "12/12 [==============================] - 3s 218ms/step - loss: 0.0017 - val_loss: 3.1254e-04\n",
            "Epoch 36/100\n",
            "12/12 [==============================] - 3s 219ms/step - loss: 0.0019 - val_loss: 2.6384e-04\n",
            "Epoch 37/100\n",
            "12/12 [==============================] - 3s 218ms/step - loss: 0.0021 - val_loss: 3.6259e-04\n",
            "Epoch 38/100\n",
            "12/12 [==============================] - 3s 287ms/step - loss: 0.0024 - val_loss: 2.6790e-04\n",
            "Epoch 39/100\n",
            "12/12 [==============================] - 4s 307ms/step - loss: 0.0018 - val_loss: 2.6269e-04\n",
            "Epoch 40/100\n",
            "12/12 [==============================] - 3s 221ms/step - loss: 0.0019 - val_loss: 2.8111e-04\n",
            "Epoch 41/100\n",
            "12/12 [==============================] - 3s 220ms/step - loss: 0.0020 - val_loss: 4.1984e-04\n",
            "Epoch 42/100\n",
            "12/12 [==============================] - 3s 219ms/step - loss: 0.0022 - val_loss: 3.3916e-04\n",
            "Epoch 43/100\n",
            "12/12 [==============================] - 3s 296ms/step - loss: 0.0061 - val_loss: 0.0017\n",
            "Epoch 44/100\n",
            "12/12 [==============================] - 4s 295ms/step - loss: 0.0053 - val_loss: 3.0113e-04\n",
            "Epoch 45/100\n",
            "12/12 [==============================] - 3s 220ms/step - loss: 0.0042 - val_loss: 3.5677e-04\n",
            "Epoch 46/100\n",
            "12/12 [==============================] - 3s 218ms/step - loss: 0.0036 - val_loss: 3.0725e-04\n",
            "Epoch 47/100\n",
            "12/12 [==============================] - 3s 219ms/step - loss: 0.0034 - val_loss: 2.6987e-04\n",
            "Epoch 48/100\n",
            "12/12 [==============================] - 4s 317ms/step - loss: 0.0028 - val_loss: 3.7987e-04\n",
            "Epoch 49/100\n",
            "12/12 [==============================] - 3s 284ms/step - loss: 0.0023 - val_loss: 2.6763e-04\n",
            "Epoch 50/100\n",
            "12/12 [==============================] - 3s 220ms/step - loss: 0.0023 - val_loss: 2.3179e-04\n",
            "Epoch 51/100\n",
            "12/12 [==============================] - 3s 221ms/step - loss: 0.0021 - val_loss: 2.3292e-04\n",
            "Epoch 52/100\n",
            "12/12 [==============================] - 3s 220ms/step - loss: 0.0019 - val_loss: 2.2751e-04\n",
            "Epoch 53/100\n",
            "12/12 [==============================] - 4s 341ms/step - loss: 0.0019 - val_loss: 2.3686e-04\n",
            "Epoch 54/100\n",
            "12/12 [==============================] - 3s 257ms/step - loss: 0.0022 - val_loss: 2.3421e-04\n",
            "Epoch 55/100\n",
            "12/12 [==============================] - 3s 226ms/step - loss: 0.0021 - val_loss: 2.3276e-04\n",
            "Epoch 56/100\n",
            "12/12 [==============================] - 3s 220ms/step - loss: 0.0020 - val_loss: 2.7260e-04\n",
            "Epoch 57/100\n",
            "12/12 [==============================] - 3s 221ms/step - loss: 0.0027 - val_loss: 2.8025e-04\n",
            "Epoch 58/100\n",
            "12/12 [==============================] - 4s 349ms/step - loss: 0.0016 - val_loss: 2.5189e-04\n",
            "Epoch 59/100\n",
            "12/12 [==============================] - 3s 239ms/step - loss: 0.0076 - val_loss: 2.4905e-04\n",
            "Epoch 60/100\n",
            "12/12 [==============================] - 3s 219ms/step - loss: 0.0047 - val_loss: 3.6166e-04\n",
            "Epoch 61/100\n",
            "12/12 [==============================] - 3s 218ms/step - loss: 0.0037 - val_loss: 5.7755e-04\n",
            "Epoch 62/100\n",
            "12/12 [==============================] - 3s 221ms/step - loss: 0.0036 - val_loss: 2.3496e-04\n",
            "Epoch 63/100\n",
            "12/12 [==============================] - 4s 353ms/step - loss: 0.0032 - val_loss: 2.3265e-04\n",
            "Epoch 64/100\n",
            "12/12 [==============================] - 3s 234ms/step - loss: 0.0027 - val_loss: 2.6560e-04\n",
            "Epoch 65/100\n",
            "12/12 [==============================] - 3s 223ms/step - loss: 0.0023 - val_loss: 2.0286e-04\n",
            "Epoch 66/100\n",
            "12/12 [==============================] - 3s 220ms/step - loss: 0.0020 - val_loss: 2.2506e-04\n",
            "Epoch 67/100\n",
            "12/12 [==============================] - 3s 220ms/step - loss: 0.0027 - val_loss: 2.9379e-04\n",
            "Epoch 68/100\n",
            "12/12 [==============================] - 4s 353ms/step - loss: 0.0036 - val_loss: 4.7522e-04\n",
            "Epoch 69/100\n",
            "12/12 [==============================] - 3s 233ms/step - loss: 0.0027 - val_loss: 2.1291e-04\n",
            "Epoch 70/100\n",
            "12/12 [==============================] - 3s 220ms/step - loss: 0.0024 - val_loss: 3.5326e-04\n",
            "Epoch 71/100\n",
            "12/12 [==============================] - 3s 219ms/step - loss: 0.0021 - val_loss: 2.1438e-04\n",
            "Epoch 72/100\n",
            "12/12 [==============================] - 3s 224ms/step - loss: 0.0021 - val_loss: 2.6350e-04\n",
            "Epoch 73/100\n",
            "12/12 [==============================] - 4s 372ms/step - loss: 0.0018 - val_loss: 2.2150e-04\n",
            "Epoch 74/100\n",
            "12/12 [==============================] - 3s 214ms/step - loss: 0.0018 - val_loss: 2.0731e-04\n",
            "Epoch 75/100\n",
            "12/12 [==============================] - 4s 310ms/step - loss: 0.0016 - val_loss: 2.6362e-04\n",
            "Epoch 76/100\n",
            "12/12 [==============================] - 4s 290ms/step - loss: 0.0016 - val_loss: 2.1223e-04\n",
            "Epoch 77/100\n",
            "12/12 [==============================] - 4s 340ms/step - loss: 0.0018 - val_loss: 2.1588e-04\n",
            "Epoch 78/100\n",
            "12/12 [==============================] - 3s 252ms/step - loss: 0.0013 - val_loss: 2.0647e-04\n",
            "Epoch 79/100\n",
            "12/12 [==============================] - 3s 224ms/step - loss: 0.0016 - val_loss: 2.4212e-04\n",
            "Epoch 80/100\n",
            "12/12 [==============================] - 3s 220ms/step - loss: 0.0016 - val_loss: 2.4436e-04\n",
            "Epoch 81/100\n",
            "12/12 [==============================] - 3s 220ms/step - loss: 0.0015 - val_loss: 2.3397e-04\n",
            "Epoch 82/100\n",
            "12/12 [==============================] - 4s 356ms/step - loss: 0.0016 - val_loss: 2.1116e-04\n",
            "Epoch 83/100\n",
            "12/12 [==============================] - 3s 242ms/step - loss: 0.0014 - val_loss: 2.4173e-04\n",
            "Epoch 84/100\n",
            "12/12 [==============================] - 3s 219ms/step - loss: 0.0017 - val_loss: 2.0425e-04\n",
            "Epoch 85/100\n",
            "12/12 [==============================] - 3s 220ms/step - loss: 0.0014 - val_loss: 2.2376e-04\n",
            "Epoch 86/100\n",
            "12/12 [==============================] - 3s 221ms/step - loss: 0.0012 - val_loss: 2.0636e-04\n",
            "Epoch 87/100\n",
            "12/12 [==============================] - 4s 368ms/step - loss: 0.0017 - val_loss: 2.0819e-04\n",
            "Epoch 88/100\n",
            "12/12 [==============================] - 3s 223ms/step - loss: 0.0013 - val_loss: 2.2293e-04\n",
            "Epoch 89/100\n",
            "12/12 [==============================] - 3s 218ms/step - loss: 0.0014 - val_loss: 2.0269e-04\n",
            "Epoch 90/100\n",
            "12/12 [==============================] - 3s 222ms/step - loss: 0.0014 - val_loss: 2.9961e-04\n",
            "Epoch 91/100\n",
            "12/12 [==============================] - 3s 246ms/step - loss: 0.0014 - val_loss: 2.0542e-04\n",
            "Epoch 92/100\n",
            "12/12 [==============================] - 4s 351ms/step - loss: 0.0012 - val_loss: 2.1494e-04\n",
            "Epoch 93/100\n",
            "12/12 [==============================] - 3s 217ms/step - loss: 0.0013 - val_loss: 2.3646e-04\n",
            "Epoch 94/100\n",
            "12/12 [==============================] - 3s 215ms/step - loss: 0.0016 - val_loss: 2.0232e-04\n",
            "Epoch 95/100\n",
            "12/12 [==============================] - 3s 222ms/step - loss: 0.0012 - val_loss: 1.9923e-04\n",
            "Epoch 96/100\n",
            "12/12 [==============================] - 3s 235ms/step - loss: 0.0013 - val_loss: 2.0364e-04\n",
            "Epoch 97/100\n",
            "12/12 [==============================] - 4s 352ms/step - loss: 0.0012 - val_loss: 2.1815e-04\n",
            "Epoch 98/100\n",
            "12/12 [==============================] - 3s 216ms/step - loss: 0.0011 - val_loss: 2.1321e-04\n",
            "Epoch 99/100\n",
            "12/12 [==============================] - 3s 221ms/step - loss: 0.0013 - val_loss: 1.9529e-04\n",
            "Epoch 100/100\n",
            "12/12 [==============================] - 3s 218ms/step - loss: 0.0011 - val_loss: 2.1270e-04\n"
          ]
        },
        {
          "output_type": "execute_result",
          "data": {
            "text/plain": [
              "<keras.callbacks.History at 0x7f1f99e3dbb0>"
            ]
          },
          "metadata": {},
          "execution_count": 34
        }
      ],
      "source": [
        "model.fit(x_train, y_train, validation_data=(x_test, y_test),epochs=100, batch_size=64, verbose=1)"
      ]
    },
    {
      "cell_type": "code",
      "execution_count": null,
      "id": "eb9cde66",
      "metadata": {
        "colab": {
          "base_uri": "https://localhost:8080/"
        },
        "id": "eb9cde66",
        "outputId": "1221b2fd-b801-4802-80dc-d2e5a6cfd9cf"
      },
      "outputs": [
        {
          "output_type": "stream",
          "name": "stdout",
          "text": [
            "23/23 [==============================] - 2s 84ms/step\n",
            "11/11 [==============================] - 1s 48ms/step\n"
          ]
        }
      ],
      "source": [
        "train_predict = model.predict(x_train)\n",
        "test_predict = model.predict(x_test)"
      ]
    },
    {
      "cell_type": "code",
      "source": [
        "train_predict = scalar.inverse_transform(train_predict)\n",
        "test_predict = scalar.inverse_transform(test_predict)"
      ],
      "metadata": {
        "id": "HBQFGrctxFfL"
      },
      "id": "HBQFGrctxFfL",
      "execution_count": null,
      "outputs": []
    },
    {
      "cell_type": "code",
      "source": [
        "np.sqrt(mean_squared_error(y_train, train_predict))"
      ],
      "metadata": {
        "colab": {
          "base_uri": "https://localhost:8080/"
        },
        "id": "FTv9y0eWxWnP",
        "outputId": "ffdc8ef9-0dc2-491a-9628-7f595acb86a2"
      },
      "id": "FTv9y0eWxWnP",
      "execution_count": null,
      "outputs": [
        {
          "output_type": "execute_result",
          "data": {
            "text/plain": [
              "230.84037312391007"
            ]
          },
          "metadata": {},
          "execution_count": 42
        }
      ]
    },
    {
      "cell_type": "code",
      "source": [
        "np.sqrt(mean_squared_error(y_test, test_predict))"
      ],
      "metadata": {
        "colab": {
          "base_uri": "https://localhost:8080/"
        },
        "id": "9ss-y51cxnz1",
        "outputId": "aa9a4be3-c3ad-4407-a4ab-8b1a4bacf6b5"
      },
      "id": "9ss-y51cxnz1",
      "execution_count": null,
      "outputs": [
        {
          "output_type": "execute_result",
          "data": {
            "text/plain": [
              "155.8948303163089"
            ]
          },
          "metadata": {},
          "execution_count": 43
        }
      ]
    },
    {
      "cell_type": "code",
      "source": [
        "from sys import set_asyncgen_hooks\n",
        "#plot\n",
        "\n",
        "look_back = 100\n",
        "train_predict_plot = np.empty_like(stock_price_new)\n",
        "train_predict_plot[:,:] = np.nan\n",
        "train_predict_plot[look_back:len(train_predict)+look_back, : ] = train_predict\n",
        "\n",
        "test_predict_plot = np.empty_like(stock_price_new)\n",
        "test_predict_plot[:,:] = np.nan\n",
        "test_predict_plot[len(train_predict)+(look_back*2)+1 :len(stock_price_new)-1, : ] = test_predict\n",
        "\n",
        "plt.plot(scalar.inverse_transform(stock_price_new))\n",
        "plt.plot(train_predict_plot)\n",
        "plt.plot(test_predict_plot)\n",
        "plt.show()"
      ],
      "metadata": {
        "colab": {
          "base_uri": "https://localhost:8080/",
          "height": 430
        },
        "id": "IqSID8lBxsdq",
        "outputId": "0d6b97ec-da44-48cc-b357-e6f5de7123d1"
      },
      "id": "IqSID8lBxsdq",
      "execution_count": null,
      "outputs": [
        {
          "output_type": "display_data",
          "data": {
            "text/plain": [
              "<Figure size 640x480 with 1 Axes>"
            ],
            "image/png": "[encoded data removed]"
          },
          "metadata": {}
        }
      ]
    },
    {
      "cell_type": "code",
      "source": [
        "x_input = test_stock_price[341:].reshape(1,-1)\n",
        "x_input.shape"
      ],
      "metadata": {
        "id": "KUS0iOX4zO_c",
        "colab": {
          "base_uri": "https://localhost:8080/"
        },
        "outputId": "f9e24f6b-9501-46e2-e1af-3bd6f38ac9d3"
      },
      "id": "KUS0iOX4zO_c",
      "execution_count": 51,
      "outputs": [
        {
          "output_type": "execute_result",
          "data": {
            "text/plain": [
              "(1, 100)"
            ]
          },
          "metadata": {},
          "execution_count": 51
        }
      ]
    },
    {
      "cell_type": "code",
      "source": [
        "temp_input = list(x_input)\n",
        "temp_input = temp_input[0].tolist()"
      ],
      "metadata": {
        "id": "4o9xHHLMtG9B"
      },
      "id": "4o9xHHLMtG9B",
      "execution_count": 54,
      "outputs": []
    },
    {
      "cell_type": "code",
      "source": [
        "temp_input"
      ],
      "metadata": {
        "colab": {
          "base_uri": "https://localhost:8080/"
        },
        "id": "z8NNfO0LtRgQ",
        "outputId": "db5e5c58-d39d-4422-cc1b-227bf27e49d5"
      },
      "id": "z8NNfO0LtRgQ",
      "execution_count": 55,
      "outputs": [
        {
          "output_type": "execute_result",
          "data": {
            "text/plain": [
              "[0.08035065748278014,\n",
              " 0.08180338134001247,\n",
              " 0.07020663744520972,\n",
              " 0.10026299311208514,\n",
              " 0.10735128365685653,\n",
              " 0.103794614902943,\n",
              " 0.10820288040075132,\n",
              " 0.10507201001878513,\n",
              " 0.10990607388854096,\n",
              " 0.11133375078271751,\n",
              " 0.10311834690043825,\n",
              " 0.10855353788353161,\n",
              " 0.11078271759549146,\n",
              " 0.10336881653099561,\n",
              " 0.09362554790231681,\n",
              " 0.08598622417031926,\n",
              " 0.10316844082654975,\n",
              " 0.10386975579211016,\n",
              " 0.1026174076393237,\n",
              " 0.0996618659987476,\n",
              " 0.09034439574201625,\n",
              " 0.08541014402003755,\n",
              " 0.08969317470256727,\n",
              " 0.08846587351283652,\n",
              " 0.0943018159048215,\n",
              " 0.096756418284283,\n",
              " 0.09109580463368816,\n",
              " 0.07428929242329363,\n",
              " 0.06930494677520344,\n",
              " 0.06394489668127734,\n",
              " 0.06376956793988725,\n",
              " 0.07165936130244199,\n",
              " 0.0635942391984971,\n",
              " 0.06266750156543521,\n",
              " 0.05808390732623664,\n",
              " 0.04809016906700059,\n",
              " 0.05703193487789604,\n",
              " 0.05783343769567939,\n",
              " 0.04566061365059482,\n",
              " 0.04889167188478394,\n",
              " 0.045535378835316165,\n",
              " 0.05705698184095176,\n",
              " 0.05838447088290544,\n",
              " 0.05983719474013771,\n",
              " 0.06675015654351907,\n",
              " 0.0665497808390732,\n",
              " 0.0699311208515967,\n",
              " 0.0728866624921728,\n",
              " 0.07105823418910456,\n",
              " 0.07120851596743893,\n",
              " 0.07772072636192856,\n",
              " 0.08583594239198494,\n",
              " 0.08939261114589853,\n",
              " 0.08771446462116467,\n",
              " 0.09297432686286783,\n",
              " 0.09790857858484658,\n",
              " 0.09056981840951783,\n",
              " 0.0938008766437069,\n",
              " 0.09665623043206006,\n",
              " 0.11015654351909826,\n",
              " 0.11937382592360674,\n",
              " 0.1124358171571696,\n",
              " 0.11974953036944269,\n",
              " 0.11291170945522849,\n",
              " 0.11028177833437691,\n",
              " 0.1106324358171571,\n",
              " 0.11774577332498432,\n",
              " 0.11611772072636184,\n",
              " 0.12145272385723233,\n",
              " 0.11739511584220413,\n",
              " 0.11448966812773947,\n",
              " 0.10429555416405756,\n",
              " 0.10537257357545393,\n",
              " 0.10659987476518468,\n",
              " 0.09986224170319347,\n",
              " 0.10289292423293667,\n",
              " 0.10161552911709448,\n",
              " 0.09635566687539132,\n",
              " 0.09785848465873509,\n",
              " 0.11068252974326859,\n",
              " 0.11769567939887288,\n",
              " 0.11211020663744514,\n",
              " 0.11529117094552283,\n",
              " 0.1095804633688165,\n",
              " 0.10434564809016905,\n",
              " 0.10927989981214775,\n",
              " 0.11458985597996241,\n",
              " 0.11559173450219157,\n",
              " 0.12275516593613017,\n",
              " 0.1206261740763932,\n",
              " 0.12663744520976827,\n",
              " 0.13134627426424544,\n",
              " 0.12771446462116465,\n",
              " 0.13046963055729488,\n",
              " 0.13377582968065116,\n",
              " 0.12884157795867246,\n",
              " 0.12726361928616153,\n",
              " 0.13507827175954912,\n",
              " 0.13906073888541015,\n",
              " 0.1454226675015654]"
            ]
          },
          "metadata": {},
          "execution_count": 55
        }
      ]
    },
    {
      "cell_type": "code",
      "source": [
        " # demonstrate prediction for next 10 days\n",
        "from numpy import array\n",
        "\n",
        "lst_output=[]\n",
        "n_steps=100\n",
        "i=0\n",
        "while(i<30):\n",
        "    \n",
        "    if(len(temp_input)>100):\n",
        "        #print(temp_input)\n",
        "        x_input=np.array(temp_input[1:])\n",
        "        print(\"{} day input {}\".format(i,x_input))\n",
        "        x_input=x_input.reshape(1,-1)\n",
        "        x_input = x_input.reshape((1, n_steps, 1))\n",
        "        #print(x_input)\n",
        "        yhat = model.predict(x_input, verbose=0)\n",
        "        print(\"{} day output {}\".format(i,yhat))\n",
        "        temp_input.extend(yhat[0].tolist())\n",
        "        temp_input=temp_input[1:]\n",
        "        #print(temp_input)\n",
        "        lst_output.extend(yhat.tolist())\n",
        "        i=i+1\n",
        "    else:\n",
        "        x_input = x_input.reshape((1, n_steps,1))\n",
        "        yhat = model.predict(x_input, verbose=0)\n",
        "        print(yhat[0])\n",
        "        temp_input.extend(yhat[0].tolist())\n",
        "        print(len(temp_input))\n",
        "        lst_output.extend(yhat.tolist())\n",
        "        i=i+1\n",
        "    \n",
        "\n",
        "print(lst_output)"
      ],
      "metadata": {
        "id": "vqCMXZkgw6sC"
      },
      "id": "vqCMXZkgw6sC",
      "execution_count": null,
      "outputs": []
    },
    {
      "cell_type": "code",
      "source": [
        "day_new=np.arange(1,101)\n",
        "day_pred=np.arange(101,131)"
      ],
      "metadata": {
        "id": "7b5ZKmMKzhMh"
      },
      "id": "7b5ZKmMKzhMh",
      "execution_count": 73,
      "outputs": []
    },
    {
      "cell_type": "code",
      "source": [
        "stock_price_new[1160:].shape"
      ],
      "metadata": {
        "colab": {
          "base_uri": "https://localhost:8080/"
        },
        "id": "cZVd5a-h1p2M",
        "outputId": "3bc853da-9a92-4efd-d675-0ddfb88a62ac"
      },
      "id": "cZVd5a-h1p2M",
      "execution_count": 83,
      "outputs": [
        {
          "output_type": "execute_result",
          "data": {
            "text/plain": [
              "(100, 1)"
            ]
          },
          "metadata": {},
          "execution_count": 83
        }
      ]
    },
    {
      "cell_type": "code",
      "source": [
        "plt.plot(day_new,scalar.inverse_transform(stock_price_new[1160:]))\n",
        "plt.plot(day_pred,scalar.inverse_transform(lst_output))"
      ],
      "metadata": {
        "colab": {
          "base_uri": "https://localhost:8080/",
          "height": 447
        },
        "id": "y0KJ131q0hKn",
        "outputId": "7e61a13a-b8b8-4613-ae62-87fe80f784d6"
      },
      "id": "y0KJ131q0hKn",
      "execution_count": 84,
      "outputs": [
        {
          "output_type": "execute_result",
          "data": {
            "text/plain": [
              "[<matplotlib.lines.Line2D at 0x7f1f9013ec70>]"
            ]
          },
          "metadata": {},
          "execution_count": 84
        },
        {
          "output_type": "display_data",
          "data": {
            "text/plain": [
              "<Figure size 640x480 with 1 Axes>"
            ],
            "image/png": "[encoded data removed]"
          },
          "metadata": {}
        }
      ]
    },
    {
      "cell_type": "code",
      "source": [
        "df3=stock_price_new.tolist()\n",
        "df3.extend(lst_output)\n",
        "plt.plot(df3[1200:])"
      ],
      "metadata": {
        "colab": {
          "base_uri": "https://localhost:8080/",
          "height": 447
        },
        "id": "KA0ifX9G0jZG",
        "outputId": "90d8bc08-bac0-4b00-8f0c-64fa4b867f6b"
      },
      "id": "KA0ifX9G0jZG",
      "execution_count": 85,
      "outputs": [
        {
          "output_type": "execute_result",
          "data": {
            "text/plain": [
              "[<matplotlib.lines.Line2D at 0x7f1f90575400>]"
            ]
          },
          "metadata": {},
          "execution_count": 85
        },
        {
          "output_type": "display_data",
          "data": {
            "text/plain": [
              "<Figure size 640x480 with 1 Axes>"
            ],
            "image/png": "[encoded data removed]"
          },
          "metadata": {}
        }
      ]
    },
    {
      "cell_type": "code",
      "source": [
        "df3=scalar.inverse_transform(df3).tolist()"
      ],
      "metadata": {
        "id": "Ph9CAxBkIIJj"
      },
      "id": "Ph9CAxBkIIJj",
      "execution_count": 87,
      "outputs": []
    },
    {
      "cell_type": "code",
      "source": [
        "plt.plot(df3)"
      ],
      "metadata": {
        "colab": {
          "base_uri": "https://localhost:8080/",
          "height": 447
        },
        "id": "4BubPJWWILi2",
        "outputId": "38ae7d8f-d83d-439f-81d5-3c69c689a28a"
      },
      "id": "4BubPJWWILi2",
      "execution_count": 88,
      "outputs": [
        {
          "output_type": "execute_result",
          "data": {
            "text/plain": [
              "[<matplotlib.lines.Line2D at 0x7f1f9056e310>]"
            ]
          },
          "metadata": {},
          "execution_count": 88
        },
        {
          "output_type": "display_data",
          "data": {
            "text/plain": [
              "<Figure size 640x480 with 1 Axes>"
            ],
            "image/png": "[encoded data removed]"
          },
          "metadata": {}
        }
      ]
    },
    {
      "cell_type": "code",
      "source": [],
      "metadata": {
        "id": "M8YryrpSIOdG"
      },
      "id": "M8YryrpSIOdG",
      "execution_count": null,
      "outputs": []
    }
  ],
  "metadata": {
    "kernelspec": {
      "display_name": "Python 3.10 (tensorflow)",
      "language": "python",
      "name": "tensorflow"
    },
    "language_info": {
      "codemirror_mode": {
        "name": "ipython",
        "version": 3
      },
      "file_extension": ".py",
      "mimetype": "text/x-python",
      "name": "python",
      "nbconvert_exporter": "python",
      "pygments_lexer": "ipython3",
      "version": "3.10.9"
    },
    "colab": {
      "provenance": []
    }
  },
  "nbformat": 4,
  "nbformat_minor": 5
}